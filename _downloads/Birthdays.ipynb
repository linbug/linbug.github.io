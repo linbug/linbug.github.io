{
 "cells": [
  {
   "cell_type": "markdown",
   "metadata": {},
   "source": [
    "#The Birthday Problem\n",
    "Finding the probability that out of n randomly chosen people, at least 2 will share a birthday\n",
    "https://en.wikipedia.org/wiki/Birthday_problem"
   ]
  },
  {
   "cell_type": "code",
   "execution_count": 25,
   "metadata": {
    "collapsed": true
   },
   "outputs": [],
   "source": [
    "from __future__ import division\n",
    "import pandas as pd\n",
    "import numpy as np\n",
    "import matplotlib.pyplot as plt\n",
    "import seaborn as sns\n",
    "import datetime\n",
    "%matplotlib inline"
   ]
  },
  {
   "cell_type": "code",
   "execution_count": 2,
   "metadata": {
    "collapsed": false
   },
   "outputs": [],
   "source": [
    "birthdays = pd.DataFrame(np.empty([365,2]), columns = ['k','probability'], index = range(1,366))\n",
    "birthdays['k'] = birthdays.index"
   ]
  },
  {
   "cell_type": "code",
   "execution_count": 3,
   "metadata": {
    "collapsed": true
   },
   "outputs": [],
   "source": [
    "def probability_of_shared_bday(k):\n",
    "    end_point = 366 - k\n",
    "    ratio = 1\n",
    "    for i in range(end_point, 366):\n",
    "        ratio *= i / 365\n",
    "    probability_of_no_match = (1 - ratio)\n",
    "    return probability_of_no_match"
   ]
  },
  {
   "cell_type": "code",
   "execution_count": 4,
   "metadata": {
    "collapsed": true
   },
   "outputs": [],
   "source": [
    "# create a theoretical probability distribution\n",
    "birthdays['probability'] = birthdays['k'].apply(probability_of_shared_bday)"
   ]
  },
  {
   "cell_type": "code",
   "execution_count": 5,
   "metadata": {
    "collapsed": false
   },
   "outputs": [
    {
     "data": {
      "text/plain": [
       "<matplotlib.text.Text at 0x108f86d10>"
      ]
     },
     "execution_count": 5,
     "metadata": {},
     "output_type": "execute_result"
    },
    {
     "data": {
      "image/png": "[encoded data removed]",
      "text/plain": [
       "<matplotlib.figure.Figure at 0x108ebd090>"
      ]
     },
     "metadata": {},
     "output_type": "display_data"
    }
   ],
   "source": [
    "#Probability distribution plot for parties of increasing sizes\n",
    "birthdays.plot(x= 'k',y = 'probability')\n",
    "plt.xlabel(\"Number of people at the party\")\n",
    "plt.ylabel(\"Probability of a shared birthday\")"
   ]
  },
  {
   "cell_type": "code",
   "execution_count": 7,
   "metadata": {
    "collapsed": false
   },
   "outputs": [
    {
     "data": {
      "text/plain": [
       "<matplotlib.text.Text at 0x109b18b50>"
      ]
     },
     "execution_count": 7,
     "metadata": {},
     "output_type": "execute_result"
    },
    {
     "data": {
      "image/png": "[encoded data removed]",
      "text/plain": [
       "<matplotlib.figure.Figure at 0x1099bdc10>"
      ]
     },
     "metadata": {},
     "output_type": "display_data"
    }
   ],
   "source": [
    "#The same plot as above but with reduced x axes limits\n",
    "birthdays.plot(x= 'k',y = 'probability')\n",
    "plt.xlim(0,100)\n",
    "plt.xlabel(\"Number of people at the party\")\n",
    "plt.ylabel(\"Probability of a shared birthday\")"
   ]
  },
  {
   "cell_type": "markdown",
   "metadata": {},
   "source": [
    "###Testing this out for real with my facebook friends' birthdays\n",
    "I first exported the calendar of all my facebook friends' birthdays to .ics. Then I used python to clean up the data so that I just had the dates in mm/dd format. I have 340 fb friends."
   ]
  },
  {
   "cell_type": "code",
   "execution_count": 11,
   "metadata": {
    "collapsed": false
   },
   "outputs": [],
   "source": [
    "fb_birthdays = pd.read_csv(\"Friends' birthdays.ics\")\n",
    "fb_birthdays.columns = ['ical']\n",
    "#just keep rows with dates\n",
    "criterion = fb_birthdays['ical'].map(lambda x: x.startswith('DTEND;VALUE=DATE:'))\n",
    "fb_birthdays = fb_birthdays.cal[criterion]\n",
    "#just keep mm/dd\n",
    "fb_birthdays = fb_birthdays.apply(lambda x: x[21:])\n",
    "#reset index\n",
    "fb_birthdays.index= range(340)\n",
    "#turn into a dataframe\n",
    "fb_birthdays_df = pd.DataFrame(fb_birthdays)\n",
    "fb_birthdays_df['date'] = fb_birthdays.apply(lambda x: x[:2]+'/'+x[-2:])"
   ]
  },
  {
   "cell_type": "code",
   "execution_count": 12,
   "metadata": {
    "collapsed": false
   },
   "outputs": [
    {
     "data": {
      "text/html": [
       "<div>\n",
       "<table border=\"1\" class=\"dataframe\">\n",
       "  <thead>\n",
       "    <tr style=\"text-align: right;\">\n",
       "      <th></th>\n",
       "      <th>cal</th>\n",
       "      <th>date</th>\n",
       "    </tr>\n",
       "  </thead>\n",
       "  <tbody>\n",
       "    <tr>\n",
       "      <th>0</th>\n",
       "      <td>0608</td>\n",
       "      <td>06/08</td>\n",
       "    </tr>\n",
       "    <tr>\n",
       "      <th>1</th>\n",
       "      <td>0715</td>\n",
       "      <td>07/15</td>\n",
       "    </tr>\n",
       "    <tr>\n",
       "      <th>2</th>\n",
       "      <td>1215</td>\n",
       "      <td>12/15</td>\n",
       "    </tr>\n",
       "    <tr>\n",
       "      <th>3</th>\n",
       "      <td>0824</td>\n",
       "      <td>08/24</td>\n",
       "    </tr>\n",
       "    <tr>\n",
       "      <th>4</th>\n",
       "      <td>0828</td>\n",
       "      <td>08/28</td>\n",
       "    </tr>\n",
       "  </tbody>\n",
       "</table>\n",
       "</div>"
      ],
      "text/plain": [
       "    cal   date\n",
       "0  0608  06/08\n",
       "1  0715  07/15\n",
       "2  1215  12/15\n",
       "3  0824  08/24\n",
       "4  0828  08/28"
      ]
     },
     "execution_count": 12,
     "metadata": {},
     "output_type": "execute_result"
    }
   ],
   "source": [
    "fb_birthdays_df.head()"
   ]
  },
  {
   "cell_type": "code",
   "execution_count": 13,
   "metadata": {
    "collapsed": false
   },
   "outputs": [
    {
     "data": {
      "text/html": [
       "<div>\n",
       "<table border=\"1\" class=\"dataframe\">\n",
       "  <thead>\n",
       "    <tr style=\"text-align: right;\">\n",
       "      <th></th>\n",
       "      <th>cal</th>\n",
       "      <th>date</th>\n",
       "    </tr>\n",
       "  </thead>\n",
       "  <tbody>\n",
       "  </tbody>\n",
       "</table>\n",
       "</div>"
      ],
      "text/plain": [
       "Empty DataFrame\n",
       "Columns: [cal, date]\n",
       "Index: []"
      ]
     },
     "execution_count": 13,
     "metadata": {},
     "output_type": "execute_result"
    }
   ],
   "source": [
    "#get rid of pesky leap years that make things more complicated\n",
    "fb_birthdays_df = fb_birthdays_df[fb_birthdays_df['date']!='02/29']\n",
    "fb_birthdays_df[fb_birthdays_df['date'] == '02/29']"
   ]
  },
  {
   "cell_type": "code",
   "execution_count": 16,
   "metadata": {
    "collapsed": false
   },
   "outputs": [
    {
     "data": {
      "text/html": [
       "<div>\n",
       "<table border=\"1\" class=\"dataframe\">\n",
       "  <thead>\n",
       "    <tr style=\"text-align: right;\">\n",
       "      <th></th>\n",
       "      <th>cal</th>\n",
       "      <th>date</th>\n",
       "      <th>datetime</th>\n",
       "    </tr>\n",
       "  </thead>\n",
       "  <tbody>\n",
       "    <tr>\n",
       "      <th>0</th>\n",
       "      <td>0608</td>\n",
       "      <td>06/08</td>\n",
       "      <td>2015-06-08</td>\n",
       "    </tr>\n",
       "    <tr>\n",
       "      <th>1</th>\n",
       "      <td>0715</td>\n",
       "      <td>07/15</td>\n",
       "      <td>2015-07-15</td>\n",
       "    </tr>\n",
       "    <tr>\n",
       "      <th>2</th>\n",
       "      <td>1215</td>\n",
       "      <td>12/15</td>\n",
       "      <td>2015-12-15</td>\n",
       "    </tr>\n",
       "    <tr>\n",
       "      <th>3</th>\n",
       "      <td>0824</td>\n",
       "      <td>08/24</td>\n",
       "      <td>2015-08-24</td>\n",
       "    </tr>\n",
       "    <tr>\n",
       "      <th>4</th>\n",
       "      <td>0828</td>\n",
       "      <td>08/28</td>\n",
       "      <td>2015-08-28</td>\n",
       "    </tr>\n",
       "  </tbody>\n",
       "</table>\n",
       "</div>"
      ],
      "text/plain": [
       "    cal   date   datetime\n",
       "0  0608  06/08 2015-06-08\n",
       "1  0715  07/15 2015-07-15\n",
       "2  1215  12/15 2015-12-15\n",
       "3  0824  08/24 2015-08-24\n",
       "4  0828  08/28 2015-08-28"
      ]
     },
     "execution_count": 16,
     "metadata": {},
     "output_type": "execute_result"
    }
   ],
   "source": [
    "#convert the 'date' column into 'datetime' objects\n",
    "fb_birthdays_df['datetime'] = fb_birthdays_df['date'].apply(lambda x: datetime.datetime(2015,int(x[:2]),int(x[-2:])))\n",
    "fb_birthdays_df.head()"
   ]
  },
  {
   "cell_type": "code",
   "execution_count": 36,
   "metadata": {
    "collapsed": false
   },
   "outputs": [
    {
     "data": {
      "image/png": "[encoded data removed]",
      "text/plain": [
       "<matplotlib.figure.Figure at 0x10df70190>"
      ]
     },
     "metadata": {},
     "output_type": "display_data"
    }
   ],
   "source": [
    "fig = plt.figure(figsize=(20, 2))\n",
    "ax = fb_birthdays_df.datetime.groupby([fb_birthdays_df.datetime.dt.month,fb_birthdays_df.datetime.dt.day]).count().plot(kind = 'bar')\n",
    "plt.tight_layout()\n",
    "fig.savefig(\"birthday_hist\", pad_inches = 0.5)\n"
   ]
  },
  {
   "cell_type": "code",
   "execution_count": 21,
   "metadata": {
    "collapsed": false
   },
   "outputs": [],
   "source": [
    "def proportion_shared_bdays(k):\n",
    "    parties_with_shared_bday = 0\n",
    "    for i in range(1000):\n",
    "        random_indexes = np.random.randint(0,339,k)\n",
    "        party = fb_birthdays_df['datetime'][random_indexes]\n",
    "        if sum(party.duplicated())>0:\n",
    "            parties_with_shared_bday +=1\n",
    "    proportion_shared_bdays = parties_with_shared_bday/1000\n",
    "    return proportion_shared_bdays"
   ]
  },
  {
   "cell_type": "code",
   "execution_count": 22,
   "metadata": {
    "collapsed": false
   },
   "outputs": [],
   "source": [
    "fb_probabilities = pd.DataFrame(np.empty([365,2]), columns = ['k','probability'], index = range(1,366))\n",
    "fb_probabilities['k'] = fb_probabilities.index\n",
    "fb_probabilities['probability'] = fb_probabilities['k'].apply(lambda x:proportion_shared_bdays(x))"
   ]
  },
  {
   "cell_type": "code",
   "execution_count": 44,
   "metadata": {
    "collapsed": false,
    "scrolled": true
   },
   "outputs": [
    {
     "data": {
      "image/png": "[encoded data removed]",
      "text/plain": [
       "<matplotlib.figure.Figure at 0x10c632310>"
      ]
     },
     "metadata": {},
     "output_type": "display_data"
    }
   ],
   "source": [
    "fb_probabilities.plot(x= 'k',y = 'probability')\n",
    "plt.xlabel(\"Number of people at the facebook party\")\n",
    "plt.ylabel(\"Probability of a shared birthday\")\n",
    "#plt.savefig(\"fb_probabilities\")"
   ]
  },
  {
   "cell_type": "code",
   "execution_count": 42,
   "metadata": {
    "collapsed": false
   },
   "outputs": [
    {
     "data": {
      "text/plain": [
       "0.767"
      ]
     },
     "execution_count": 42,
     "metadata": {},
     "output_type": "execute_result"
    }
   ],
   "source": [
    "proportion_shared_bdays(23)"
   ]
  },
  {
   "cell_type": "code",
   "execution_count": 45,
   "metadata": {
    "collapsed": false
   },
   "outputs": [
    {
     "data": {
      "text/plain": [
       "<matplotlib.text.Text at 0x10aea0990>"
      ]
     },
     "execution_count": 45,
     "metadata": {},
     "output_type": "execute_result"
    },
    {
     "data": {
      "image/png": "[encoded data removed]",
      "text/plain": [
       "<matplotlib.figure.Figure at 0x10d56a150>"
      ]
     },
     "metadata": {},
     "output_type": "display_data"
    }
   ],
   "source": [
    "fb_probabilities.plot(x= 'k',y = 'probability')\n",
    "plt.xlim(0,100)\n",
    "plt.xlabel(\"Number of people at the facebook party\")\n",
    "plt.ylabel(\"Probability of a shared birthday\")"
   ]
  },
  {
   "cell_type": "code",
   "execution_count": null,
   "metadata": {
    "collapsed": true
   },
   "outputs": [],
   "source": []
  }
 ],
 "metadata": {
  "kernelspec": {
   "display_name": "Python 2",
   "language": "python",
   "name": "python2"
  },
  "language_info": {
   "codemirror_mode": {
    "name": "ipython",
    "version": 2
   },
   "file_extension": ".py",
   "mimetype": "text/x-python",
   "name": "python",
   "nbconvert_exporter": "python",
   "pygments_lexer": "ipython2",
   "version": "2.7.10"
  }
 },
 "nbformat": 4,
 "nbformat_minor": 0
}
